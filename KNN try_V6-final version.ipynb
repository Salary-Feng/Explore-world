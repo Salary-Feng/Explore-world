{
 "cells": [
  {
   "cell_type": "markdown",
   "id": "cca14070",
   "metadata": {},
   "source": [
    "# KNN Classifier-V6\n",
    "### Use cross-validation"
   ]
  },
  {
   "cell_type": "markdown",
   "id": "358edd98",
   "metadata": {},
   "source": [
    "## Import"
   ]
  },
  {
   "cell_type": "code",
   "execution_count": 8,
   "id": "1fca94ff",
   "metadata": {},
   "outputs": [],
   "source": [
    "import pandas as pd\n",
    "import numpy as np\n",
    "from collections import Counter\n",
    "from sklearn.model_selection import train_test_split\n",
    "from sklearn.metrics import accuracy_score, confusion_matrix\n",
    "from sklearn.preprocessing import StandardScaler, OneHotEncoder\n",
    "import matplotlib.pyplot as plt\n",
    "from tqdm import tqdm\n",
    "from sklearn.decomposition import PCA\n",
    "\n",
    "from imblearn.over_sampling import SMOTE\n",
    "from collections import Counter\n",
    "from sklearn.model_selection import GridSearchCV\n",
    "from sklearn.metrics import classification_report\n",
    "from sklearn.model_selection import KFold\n",
    "from sklearn.metrics import f1_score"
   ]
  },
  {
   "cell_type": "markdown",
   "id": "68d0ddf1",
   "metadata": {},
   "source": [
    "## The Dataset"
   ]
  },
  {
   "cell_type": "code",
   "execution_count": 9,
   "id": "1208777f",
   "metadata": {},
   "outputs": [
    {
     "name": "stderr",
     "output_type": "stream",
     "text": [
      "<>:7: SyntaxWarning: invalid escape sequence '\\s'\n",
      "<>:8: SyntaxWarning: invalid escape sequence '\\s'\n",
      "<>:7: SyntaxWarning: invalid escape sequence '\\s'\n",
      "<>:8: SyntaxWarning: invalid escape sequence '\\s'\n",
      "/var/folders/jm/47w2qsqx3tg66cd69qk5kldw0000gn/T/ipykernel_91612/1523703274.py:7: SyntaxWarning: invalid escape sequence '\\s'\n",
      "  data = pd.read_csv('/Users/fengyuexin/Desktop/Data mining homework/adult.data', names=column_names, sep=',\\s', engine='python', na_values=\"?\")\n",
      "/var/folders/jm/47w2qsqx3tg66cd69qk5kldw0000gn/T/ipykernel_91612/1523703274.py:8: SyntaxWarning: invalid escape sequence '\\s'\n",
      "  data_test = pd.read_csv('/Users/fengyuexin/Desktop/Data mining homework/adult.test', names=column_names, sep=',\\s', engine='python', na_values=\"?\", skiprows=1)\n"
     ]
    }
   ],
   "source": [
    "column_names = [\n",
    "    'age', 'workclass', 'fnlwgt', 'education', 'education-num', 'marital-status',\n",
    "    'occupation', 'relationship', 'race', 'sex', 'capital-gain', 'capital-loss',\n",
    "    'hours-per-week', 'native-country', 'income'\n",
    "]\n",
    "\n",
    "data = pd.read_csv('/Users/fengyuexin/Desktop/Data mining homework/adult.data', names=column_names, sep=',\\s', engine='python', na_values=\"?\")\n",
    "data_test = pd.read_csv('/Users/fengyuexin/Desktop/Data mining homework/adult.test', names=column_names, sep=',\\s', engine='python', na_values=\"?\", skiprows=1)"
   ]
  },
  {
   "cell_type": "markdown",
   "id": "4af317fe",
   "metadata": {},
   "source": [
    "## Data preprocessing"
   ]
  },
  {
   "cell_type": "code",
   "execution_count": 10,
   "id": "c42e591a",
   "metadata": {},
   "outputs": [
    {
     "name": "stdout",
     "output_type": "stream",
     "text": [
      "Original dataset shape: Counter({0: 22654, 1: 7508})\n",
      "Resampled dataset shape: Counter({0: 22654, 1: 22654})\n"
     ]
    }
   ],
   "source": [
    "# Delete missing values\n",
    "data = data.dropna()\n",
    "data_test = data_test.dropna()\n",
    "\n",
    "\n",
    "# One-Hot Encoding\n",
    "categorical_columns = ['workclass', 'education', 'marital-status', 'occupation', 'relationship', 'race', 'sex', 'native-country']\n",
    "\n",
    "encoder = OneHotEncoder(sparse_output=False, drop='first')\n",
    "\n",
    "X_train_encoded = encoder.fit_transform(data[categorical_columns])\n",
    "X_test_encoded = encoder.transform(data_test[categorical_columns])\n",
    "\n",
    "encoded_feature_names = encoder.get_feature_names_out(categorical_columns)\n",
    "\n",
    "X_train = pd.DataFrame(X_train_encoded, columns=encoded_feature_names)\n",
    "X_test = pd.DataFrame(X_test_encoded, columns=encoded_feature_names)\n",
    "\n",
    "X_train_continuous = data[['age', 'education-num', 'capital-gain', 'capital-loss', 'hours-per-week']].reset_index(drop=True)\n",
    "X_test_continuous = data_test[['age', 'education-num', 'capital-gain', 'capital-loss', 'hours-per-week']].reset_index(drop=True)\n",
    "\n",
    "X_train = pd.concat([X_train_continuous, X_train], axis=1)\n",
    "X_test = pd.concat([X_test_continuous, X_test], axis=1)\n",
    "\n",
    "# Tag processing\n",
    "y_train = data['income'].apply(lambda x: 1 if x == '>50K' else 0).reset_index(drop=True)\n",
    "y_test = data_test['income'].apply(lambda x: 1 if x == '>50K' else 0).reset_index(drop=True)\n",
    "\n",
    "\n",
    "# Feature scaling\n",
    "scaler = StandardScaler()\n",
    "X_train_scaled = scaler.fit_transform(X_train)\n",
    "X_test_scaled = scaler.transform(X_test)\n",
    "\n",
    "# Initialize SMOTE\n",
    "smote = SMOTE(random_state=42)\n",
    "\n",
    "# Oversample the training set\n",
    "X_train_resampled, y_train_resampled = smote.fit_resample(X_train_scaled, y_train)\n",
    "X_test_array = X_test.to_numpy() \n",
    "X_train_resampled = np.array(X_train_resampled)\n",
    "y_train_resampled = np.array(y_train_resampled)\n",
    "\n",
    "if y_train_resampled.ndim > 1:\n",
    "    y_train_resampled = y_train_resampled.ravel()\n",
    "\n",
    "# Check the distribution of categories after oversampling\n",
    "print(f\"Original dataset shape: {Counter(y_train)}\")\n",
    "print(f\"Resampled dataset shape: {Counter(y_train_resampled)}\")"
   ]
  },
  {
   "cell_type": "markdown",
   "id": "be1b7449",
   "metadata": {},
   "source": [
    "## Implementation of KNN algorithm"
   ]
  },
  {
   "cell_type": "code",
   "execution_count": 11,
   "id": "62675e92",
   "metadata": {},
   "outputs": [
    {
     "name": "stderr",
     "output_type": "stream",
     "text": [
      "Predicting: 100%|███████████████████████████████████████████████████████████████████████████████████████████████████████████| 9062/9062 [17:52<00:00,  8.45sample/s]\n",
      "Predicting: 100%|███████████████████████████████████████████████████████████████████████████████████████████████████████████| 9062/9062 [17:15<00:00,  8.75sample/s]\n",
      "Predicting: 100%|███████████████████████████████████████████████████████████████████████████████████████████████████████████| 9062/9062 [17:24<00:00,  8.67sample/s]\n",
      "Predicting: 100%|███████████████████████████████████████████████████████████████████████████████████████████████████████████| 9061/9061 [17:25<00:00,  8.66sample/s]\n",
      "Predicting: 100%|███████████████████████████████████████████████████████████████████████████████████████████████████████████| 9061/9061 [17:18<00:00,  8.73sample/s]\n",
      "Cross-validating: 100%|███████████████████████████████████████████████████████████████████████████████████████████████████████████| 5/5 [1:27:17<00:00, 1047.50s/it]\n"
     ]
    },
    {
     "name": "stdout",
     "output_type": "stream",
     "text": [
      "Cross-validation F1 scores: [0.832287480904311, 0.8378446184659477, 0.8357426621260645, 0.8372506747734939, 0.8405897488128139]\n",
      "Mean CV F1 score: 0.837 (+/- 0.005)\n"
     ]
    },
    {
     "name": "stderr",
     "output_type": "stream",
     "text": [
      "Predicting: 100%|█████████████████████████████████████████████████████████████████████████████████████████████████████████| 15060/15060 [35:29<00:00,  7.07sample/s]"
     ]
    },
    {
     "name": "stdout",
     "output_type": "stream",
     "text": [
      "Accuracy of KNN model with k=10: 91.55%\n",
      "              precision    recall  f1-score   support\n",
      "\n",
      "       <=50K       1.00      0.92      0.96     15060\n",
      "        >50K       0.00      0.00      0.00         0\n",
      "\n",
      "    accuracy                           0.92     15060\n",
      "   macro avg       0.50      0.46      0.48     15060\n",
      "weighted avg       1.00      0.92      0.96     15060\n",
      "\n"
     ]
    },
    {
     "name": "stderr",
     "output_type": "stream",
     "text": [
      "\n",
      "/opt/anaconda3/lib/python3.12/site-packages/sklearn/metrics/_classification.py:1509: UndefinedMetricWarning: Recall is ill-defined and being set to 0.0 in labels with no true samples. Use `zero_division` parameter to control this behavior.\n",
      "  _warn_prf(average, modifier, f\"{metric.capitalize()} is\", len(result))\n",
      "/opt/anaconda3/lib/python3.12/site-packages/sklearn/metrics/_classification.py:1509: UndefinedMetricWarning: Recall is ill-defined and being set to 0.0 in labels with no true samples. Use `zero_division` parameter to control this behavior.\n",
      "  _warn_prf(average, modifier, f\"{metric.capitalize()} is\", len(result))\n",
      "/opt/anaconda3/lib/python3.12/site-packages/sklearn/metrics/_classification.py:1509: UndefinedMetricWarning: Recall is ill-defined and being set to 0.0 in labels with no true samples. Use `zero_division` parameter to control this behavior.\n",
      "  _warn_prf(average, modifier, f\"{metric.capitalize()} is\", len(result))\n"
     ]
    }
   ],
   "source": [
    "def euclidean_distance(point1, point2):\n",
    "    return np.sqrt(np.sum((point1 - point2) ** 2))\n",
    "\n",
    "def knn(X_train, y_train, X_test, k=5):\n",
    "    predictions = []\n",
    "    \n",
    "    for idx, test_point in enumerate(tqdm(X_test, desc=\"Predicting\", unit=\"sample\")):\n",
    "        distances = []\n",
    "\n",
    "        for i, train_point in enumerate(X_train):\n",
    "            dist = euclidean_distance(train_point, test_point)\n",
    "            distances.append((dist, y_train[i]))\n",
    "\n",
    "        k_neighbors = sorted(distances, key=lambda x: x[0])[:k]\n",
    "        k_labels = [label for _, label in k_neighbors]\n",
    "\n",
    "        most_common = Counter(k_labels).most_common(1)[0][0]\n",
    "        predictions.append(most_common)\n",
    "\n",
    "    return np.array(predictions)\n",
    "\n",
    "# Perform cross-validation\n",
    "def cross_validate_knn(X, y, k, n_splits=5):\n",
    "    kf = KFold(n_splits=n_splits, shuffle=True, random_state=42)\n",
    "    f1_scores = []\n",
    "\n",
    "    for train_index, val_index in tqdm(kf.split(X), total=n_splits, desc=\"Cross-validating\"):\n",
    "        X_train_cv, X_val_cv = X[train_index], X[val_index]\n",
    "        y_train_cv, y_val_cv = y[train_index], y[val_index]\n",
    "        \n",
    "        y_pred_cv = knn(X_train_cv, y_train_cv, X_val_cv, k=k)\n",
    "        f1 = f1_score(y_val_cv, y_pred_cv, average='weighted')\n",
    "        f1_scores.append(f1)\n",
    "\n",
    "    return f1_scores\n",
    "\n",
    "# Run KNN\n",
    "k = 10\n",
    "cv_scores = cross_validate_knn(X_train_resampled, y_train_resampled, k)\n",
    "\n",
    "print(f\"Cross-validation F1 scores: {cv_scores}\")\n",
    "print(f\"Mean CV F1 score: {np.mean(cv_scores):.3f} (+/- {np.std(cv_scores) * 2:.3f})\")\n",
    "\n",
    "# Train on the entire training set and evaluate on the test set\n",
    "y_pred = knn(X_train_resampled, y_train_resampled, X_test_array, k=k)\n",
    "\n",
    "# evaluate performance\n",
    "accuracy = accuracy_score(y_test, y_pred)\n",
    "print(f\"Accuracy of KNN model with k={k}: {accuracy * 100:.2f}%\")\n",
    "print(classification_report(y_test, y_pred, target_names=['<=50K', '>50K']))"
   ]
  },
  {
   "cell_type": "markdown",
   "id": "90491f63",
   "metadata": {},
   "source": [
    "## Visualization of confusion matrix"
   ]
  },
  {
   "cell_type": "code",
   "execution_count": 12,
   "id": "7e0ae04c",
   "metadata": {},
   "outputs": [
    {
     "data": {
      "image/png": "[encoded data removed]",
      "text/plain": [
       "<Figure size 800x600 with 2 Axes>"
      ]
     },
     "metadata": {},
     "output_type": "display_data"
    }
   ],
   "source": [
    "\n",
    "cm = confusion_matrix(y_test, y_pred)\n",
    "plt.figure(figsize=(8, 6))\n",
    "plt.imshow(cm, interpolation='nearest', cmap=plt.cm.Blues)\n",
    "plt.title('Confusion Matrix')\n",
    "plt.colorbar()\n",
    "tick_marks = np.arange(2)\n",
    "plt.xticks(tick_marks, ['<=50K', '>50K'], rotation=45)\n",
    "plt.yticks(tick_marks, ['<=50K', '>50K'])\n",
    "\n",
    "# Add labels to the confusion matrix image.\n",
    "thresh = cm.max() / 2.\n",
    "for i, j in np.ndindex(cm.shape):\n",
    "    plt.text(j, i, f'{cm[i, j]}', horizontalalignment=\"center\", color=\"white\" if cm[i, j] > thresh else \"black\")\n",
    "\n",
    "plt.ylabel('True label')\n",
    "plt.xlabel('Predicted label')\n",
    "plt.tight_layout()\n",
    "plt.show()"
   ]
  }
 ],
 "metadata": {
  "kernelspec": {
   "display_name": "Python 3 (ipykernel)",
   "language": "python",
   "name": "python3"
  },
  "language_info": {
   "codemirror_mode": {
    "name": "ipython",
    "version": 3
   },
   "file_extension": ".py",
   "mimetype": "text/x-python",
   "name": "python",
   "nbconvert_exporter": "python",
   "pygments_lexer": "ipython3",
   "version": "3.12.2"
  }
 },
 "nbformat": 4,
 "nbformat_minor": 5
}
